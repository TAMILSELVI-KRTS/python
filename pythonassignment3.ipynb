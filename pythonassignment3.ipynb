{
  "nbformat": 4,
  "nbformat_minor": 0,
  "metadata": {
    "colab": {
      "name": "pythonassignment3.ipynb",
      "provenance": [],
      "authorship_tag": "ABX9TyOF/hjKtIIDQDp3p9kz67W9",
      "include_colab_link": true
    },
    "kernelspec": {
      "name": "python3",
      "display_name": "Python 3"
    }
  },
  "cells": [
    {
      "cell_type": "markdown",
      "metadata": {
        "id": "view-in-github",
        "colab_type": "text"
      },
      "source": [
        "<a href=\"https://colab.research.google.com/github/TAMILSELVI-KRTS/python/blob/main/pythonassignment3.ipynb\" target=\"_parent\"><img src=\"https://colab.research.google.com/assets/colab-badge.svg\" alt=\"Open In Colab\"/></a>"
      ]
    },
    {
      "cell_type": "code",
      "metadata": {
        "colab": {
          "base_uri": "https://localhost:8080/"
        },
        "id": "r1ZASvcRRGVA",
        "outputId": "e29949f2-26f0-4494-8fd4-102a7c32b6e5"
      },
      "source": [
        "def max_of_two( x, y ):\r\n",
        "    if x > y:\r\n",
        "        return x\r\n",
        "    return y\r\n",
        "def max_of_three( x, y, z ):\r\n",
        "    return max_of_two( x, max_of_two( y, z ) )\r\n",
        "print(max_of_three(3, 6, -5))"
      ],
      "execution_count": 1,
      "outputs": [
        {
          "output_type": "stream",
          "text": [
            "6\n"
          ],
          "name": "stdout"
        }
      ]
    },
    {
      "cell_type": "code",
      "metadata": {
        "colab": {
          "base_uri": "https://localhost:8080/"
        },
        "id": "QgYql7OwR5ca",
        "outputId": "ce6c9d0e-fa21-440b-dbec-68994c19ba85"
      },
      "source": [
        "def isPalindrome(string):\r\n",
        "\tleft_pos = 0\r\n",
        "\tright_pos = len(string) - 1\r\n",
        "\t\r\n",
        "\twhile right_pos >= left_pos:\r\n",
        "\t\tif not string[left_pos] == string[right_pos]:\r\n",
        "\t\t\treturn False\r\n",
        "\t\tleft_pos += 1\r\n",
        "\t\tright_pos -= 1\r\n",
        "\treturn True\r\n",
        "print(isPalindrome('aza')) \r\n"
      ],
      "execution_count": 2,
      "outputs": [
        {
          "output_type": "stream",
          "text": [
            "True\n"
          ],
          "name": "stdout"
        }
      ]
    },
    {
      "cell_type": "code",
      "metadata": {
        "colab": {
          "base_uri": "https://localhost:8080/"
        },
        "id": "WsZrz1_eSNV2",
        "outputId": "23452519-f56f-4f14-d887-3f90d6d4cd63"
      },
      "source": [
        "def string_test(s):\r\n",
        "    d={\"UPPER_CASE\":0, \"LOWER_CASE\":0}\r\n",
        "    for c in s:\r\n",
        "        if c.isupper():\r\n",
        "           d[\"UPPER_CASE\"]+=1\r\n",
        "        elif c.islower():\r\n",
        "           d[\"LOWER_CASE\"]+=1\r\n",
        "        else:\r\n",
        "           pass\r\n",
        "    print (\"Original String : \", s)\r\n",
        "    print (\"No. of Upper case characters : \", d[\"UPPER_CASE\"])\r\n",
        "    print (\"No. of Lower case Characters : \", d[\"LOWER_CASE\"])\r\n",
        "\r\n",
        "string_test('The quick Brown Fox')\r\n"
      ],
      "execution_count": 3,
      "outputs": [
        {
          "output_type": "stream",
          "text": [
            "Original String :  The quick Brown Fox\n",
            "No. of Upper case characters :  3\n",
            "No. of Lower case Characters :  13\n"
          ],
          "name": "stdout"
        }
      ]
    },
    {
      "cell_type": "code",
      "metadata": {
        "colab": {
          "base_uri": "https://localhost:8080/"
        },
        "id": "_hc0OdtPUwY8",
        "outputId": "95ef24a3-54ba-4a7e-9f88-c5aa94a806b9"
      },
      "source": [
        "def sum(numbers):\r\n",
        "    total = 0\r\n",
        "    for x in numbers:\r\n",
        "        total += x\r\n",
        "    return total\r\n",
        "print(sum((8, 2, 3, 0, 7)))"
      ],
      "execution_count": 4,
      "outputs": [
        {
          "output_type": "stream",
          "text": [
            "20\n"
          ],
          "name": "stdout"
        }
      ]
    },
    {
      "cell_type": "code",
      "metadata": {
        "colab": {
          "base_uri": "https://localhost:8080/"
        },
        "id": "4s6DWJtNU6KB",
        "outputId": "682499a0-598a-4771-ca86-e3f94443ab7c"
      },
      "source": [
        "def multiply(numbers):  \r\n",
        "    total = 1\r\n",
        "    for x in numbers:\r\n",
        "        total *= x  \r\n",
        "    return total  \r\n",
        "print(multiply((8, 2, 3, -1, 7)))\r\n"
      ],
      "execution_count": 5,
      "outputs": [
        {
          "output_type": "stream",
          "text": [
            "-336\n"
          ],
          "name": "stdout"
        }
      ]
    },
    {
      "cell_type": "code",
      "metadata": {
        "colab": {
          "base_uri": "https://localhost:8080/"
        },
        "id": "eipcGctQVL7_",
        "outputId": "22fbb4f4-183e-4fd4-b5c4-85e89ca15ad6"
      },
      "source": [
        "def unique_list(l):\r\n",
        "  x = []\r\n",
        "  for a in l:\r\n",
        "    if a not in x:\r\n",
        "      x.append(a)\r\n",
        "  return x\r\n",
        "\r\n",
        "print(unique_list([1,2,3,3,3,3,4,5])) "
      ],
      "execution_count": 6,
      "outputs": [
        {
          "output_type": "stream",
          "text": [
            "[1, 2, 3, 4, 5]\n"
          ],
          "name": "stdout"
        }
      ]
    }
  ]
}