{
  "nbformat": 4,
  "nbformat_minor": 0,
  "metadata": {
    "colab": {
      "name": "pythonassignement2.ipynb",
      "provenance": [],
      "authorship_tag": "ABX9TyNVVEULRFcoWlQIp0dGJwQg",
      "include_colab_link": true
    },
    "kernelspec": {
      "name": "python3",
      "display_name": "Python 3"
    }
  },
  "cells": [
    {
      "cell_type": "markdown",
      "metadata": {
        "id": "view-in-github",
        "colab_type": "text"
      },
      "source": [
        "<a href=\"https://colab.research.google.com/github/TAMILSELVI-KRTS/python/blob/main/pythonassignement2.ipynb\" target=\"_parent\"><img src=\"https://colab.research.google.com/assets/colab-badge.svg\" alt=\"Open In Colab\"/></a>"
      ]
    },
    {
      "cell_type": "code",
      "metadata": {
        "colab": {
          "base_uri": "https://localhost:8080/"
        },
        "id": "D1iEPA8bu7jC",
        "outputId": "1f8136c5-591f-47c7-f049-545bd4c3be2e"
      },
      "source": [
        "test_list=[1,5,3,6,3,5,6,1]\r\n",
        "print(\"The original list is:\" + str(test_list))\r\n",
        "test_list=list(set(test_list))\r\n",
        "print(\"the list after removing duplicates\" + str(test_list))"
      ],
      "execution_count": null,
      "outputs": [
        {
          "output_type": "stream",
          "text": [
            "The original list is:[1, 5, 3, 6, 3, 5, 6, 1]\n",
            "the list after removing duplicates[1, 3, 5, 6]\n"
          ],
          "name": "stdout"
        }
      ]
    },
    {
      "cell_type": "code",
      "metadata": {
        "id": "B7B_QnDHwpmO",
        "colab": {
          "base_uri": "https://localhost:8080/"
        },
        "outputId": "c1cdabe4-35a7-4884-800f-55cba7dc3b23"
      },
      "source": [
        "list1 = [1, 3, 5, 7, 9]\r\n",
        "list2=[1, 2, 4, 6, 7, 8]\r\n",
        "diff_list1_list2 = list(set(list1) - set(list2))\r\n",
        "diff_list2_list1 = list(set(list2) - set(list1))\r\n",
        "total_diff = diff_list1_list2 + diff_list2_list1\r\n",
        "print(total_diff)\r\n"
      ],
      "execution_count": 1,
      "outputs": [
        {
          "output_type": "stream",
          "text": [
            "[9, 3, 5, 8, 2, 4, 6]\n"
          ],
          "name": "stdout"
        }
      ]
    },
    {
      "cell_type": "markdown",
      "metadata": {
        "id": "G_yQ87j2vRE8"
      },
      "source": [
        ""
      ]
    },
    {
      "cell_type": "code",
      "metadata": {
        "colab": {
          "base_uri": "https://localhost:8080/"
        },
        "id": "gl8spILAObdO",
        "outputId": "f56d0e7c-85b2-4947-afaa-68d187e80219"
      },
      "source": [
        "import collections\r\n",
        "my_list = [10,10,10,10,20,20,20,20,40,40,50,50,30]\r\n",
        "print(\"Original List : \",my_list)\r\n",
        "ctr = collections.Counter(my_list)\r\n",
        "print(\"Frequency of the elements in the List : \",ctr)\r\n"
      ],
      "execution_count": 2,
      "outputs": [
        {
          "output_type": "stream",
          "text": [
            "Original List :  [10, 10, 10, 10, 20, 20, 20, 20, 40, 40, 50, 50, 30]\n",
            "Frequency of the elements in the List :  Counter({10: 4, 20: 4, 40: 2, 50: 2, 30: 1})\n"
          ],
          "name": "stdout"
        }
      ]
    },
    {
      "cell_type": "code",
      "metadata": {
        "colab": {
          "base_uri": "https://localhost:8080/"
        },
        "id": "1YaUjNR5O2cF",
        "outputId": "cdcc3d14-59eb-44af-bc6c-0467a1bd405c"
      },
      "source": [
        "from collections import Counter\r\n",
        "color1 = [\"red\", \"orange\", \"green\", \"blue\", \"white\"]\r\n",
        "color2 = [\"black\", \"yellow\", \"green\", \"blue\"]\r\n",
        "counter1 = Counter(color1)\r\n",
        "counter2 = Counter(color2)\r\n",
        "print(\"Color1-Color2: \",list(counter1 - counter2))\r\n",
        "print(\"Color2-Color1: \",list(counter2 - counter1))\r\n"
      ],
      "execution_count": 3,
      "outputs": [
        {
          "output_type": "stream",
          "text": [
            "Color1-Color2:  ['red', 'orange', 'white']\n",
            "Color2-Color1:  ['black', 'yellow']\n"
          ],
          "name": "stdout"
        }
      ]
    }
  ]
}